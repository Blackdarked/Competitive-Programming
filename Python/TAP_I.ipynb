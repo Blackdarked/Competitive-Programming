{
 "cells": [
  {
   "cell_type": "code",
   "execution_count": 18,
   "metadata": {},
   "outputs": [],
   "source": [
    "from manim import *\n",
    "from manim_slides import slide, ThreeDSlide"
   ]
  },
  {
   "cell_type": "code",
   "execution_count": 19,
   "metadata": {},
   "outputs": [
    {
     "name": "stderr",
     "output_type": "stream",
     "text": [
      "UsageError: Cell magic `%%manim_slides` not found.\n"
     ]
    }
   ],
   "source": [
    "%%manim_slides -pqh -v WARNING Demo\n",
    "class Demo(ThreeDSlide):\n",
    "    def construct(self):\n",
    "        t1 = Tex(\"TAP I\")\n",
    "        t2 = Tex(\"Session 1\").next_to(t1, DOWN)\n",
    "        t3 = Tex(\"Overview\").next_to(t2, DOWN)\n",
    "        t4 = Tex(\"Instructor: Ho Le Vu\").next_to(t3, DOWN)\n",
    "\n",
    "        self.play(Write(t1))\n",
    "        self.next_slide()\n",
    "        self.play(Write(t2))\n",
    "        self.next_slide()\n",
    "        self.play(Write(t3))\n",
    "        self.next_slide()\n",
    "        self.play(Write(t4))\n",
    "        self.next_slide()"
   ]
  }
 ],
 "metadata": {
  "kernelspec": {
   "display_name": "Python 3",
   "language": "python",
   "name": "python3"
  },
  "language_info": {
   "codemirror_mode": {
    "name": "ipython",
    "version": 3
   },
   "file_extension": ".py",
   "mimetype": "text/x-python",
   "name": "python",
   "nbconvert_exporter": "python",
   "pygments_lexer": "ipython3",
   "version": "3.11.5"
  }
 },
 "nbformat": 4,
 "nbformat_minor": 2
}
