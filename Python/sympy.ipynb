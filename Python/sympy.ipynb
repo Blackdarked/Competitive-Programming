{
 "cells": [
  {
   "cell_type": "code",
   "execution_count": 43,
   "metadata": {},
   "outputs": [],
   "source": [
    "import sympy as sp\n",
    "from sympy import symbols\n",
    "from sympy.matrices import Matrix\n",
    "from sympy import Identity\n",
    "from sympy.abc import x, y, z, m\n",
    "from sympy import pprint"
   ]
  },
  {
   "cell_type": "code",
   "execution_count": 44,
   "metadata": {},
   "outputs": [],
   "source": [
    "x,y,z,m,n=symbols('x y z m n')"
   ]
  },
  {
   "cell_type": "code",
   "execution_count": 45,
   "metadata": {},
   "outputs": [
    {
     "data": {
      "text/latex": [
       "$\\displaystyle \\left[\\begin{matrix}1 & 0 & 1 & -1\\\\0 & 1 & 1 & 1\\\\0 & 0 & -3 & 1\\end{matrix}\\right]$"
      ],
      "text/plain": [
       "Matrix([\n",
       "[1, 0,  1, -1],\n",
       "[0, 1,  1,  1],\n",
       "[0, 0, -3,  1]])"
      ]
     },
     "execution_count": 45,
     "metadata": {},
     "output_type": "execute_result"
    }
   ],
   "source": [
    "A=Matrix(3,4,[m+1,1,1,1,1,m+1,1,m,1,1,m,m**2])\n",
    "A.echelon_form().subs(m, -1)"
   ]
  },
  {
   "cell_type": "code",
   "execution_count": 46,
   "metadata": {},
   "outputs": [
    {
     "data": {
      "text/latex": [
       "$\\displaystyle \\left[\\begin{matrix}1 & 5 & 5 & 0\\\\-5 & m - 27 & m - 26 & 5\\\\m & 28 & m + 28 & -5\\end{matrix}\\right]$"
      ],
      "text/plain": [
       "Matrix([\n",
       "[ 1,      5,      5,  0],\n",
       "[-5, m - 27, m - 26,  5],\n",
       "[ m,     28, m + 28, -5]])"
      ]
     },
     "execution_count": 46,
     "metadata": {},
     "output_type": "execute_result"
    }
   ],
   "source": [
    "T=Matrix(3, 4, [1,5,5,0,-5,-(27-m),m-26,5,m,28,m+28,-5])\n",
    "T"
   ]
  },
  {
   "cell_type": "code",
   "execution_count": 47,
   "metadata": {},
   "outputs": [
    {
     "data": {
      "text/latex": [
       "$\\displaystyle \\left[\\begin{matrix}1 & 5 & 5 & 0\\\\0 & m - 2 & m - 1 & 5\\\\0 & 0 & m^{2} + 3 m - 28 & 20 m - 130\\end{matrix}\\right]$"
      ],
      "text/plain": [
       "Matrix([\n",
       "[1,     5,               5,          0],\n",
       "[0, m - 2,           m - 1,          5],\n",
       "[0,     0, m**2 + 3*m - 28, 20*m - 130]])"
      ]
     },
     "execution_count": 47,
     "metadata": {},
     "output_type": "execute_result"
    }
   ],
   "source": [
    "T.echelon_form()"
   ]
  },
  {
   "cell_type": "code",
   "execution_count": 48,
   "metadata": {},
   "outputs": [
    {
     "data": {
      "text/latex": [
       "$\\displaystyle \\frac{- \\frac{\\left(m - 1\\right) \\left(20 m - 130\\right)}{m^{2} + 3 m - 28} + 5}{m - 2}$"
      ],
      "text/plain": [
       "(-(m - 1)*(20*m - 130)/(m**2 + 3*m - 28) + 5)/(m - 2)"
      ]
     },
     "execution_count": 48,
     "metadata": {},
     "output_type": "execute_result"
    }
   ],
   "source": [
    "(5-(m-1)*((20*m-130)/(m**2+3*m-28)))/(m-2)"
   ]
  },
  {
   "cell_type": "code",
   "execution_count": 49,
   "metadata": {},
   "outputs": [
    {
     "data": {
      "text/latex": [
       "$\\displaystyle \\left[\\begin{matrix}38\\\\14\\end{matrix}\\right]$"
      ],
      "text/plain": [
       "Matrix([\n",
       "[38],\n",
       "[14]])"
      ]
     },
     "execution_count": 49,
     "metadata": {},
     "output_type": "execute_result"
    }
   ],
   "source": [
    "A=Matrix(2,2,[1,2,0,1])\n",
    "B=Matrix(2,3,[0,1,2,1,1,3])\n",
    "C=Matrix(3,1,[1,4,3])\n",
    "D=A*B\n",
    "D*C"
   ]
  },
  {
   "cell_type": "code",
   "execution_count": 50,
   "metadata": {},
   "outputs": [
    {
     "data": {
      "text/latex": [
       "$\\displaystyle - 4 y \\left(\\frac{1}{4} - \\frac{y}{2}\\right) - \\frac{y}{2} - 2 \\left(\\frac{1}{4} - \\frac{y}{2}\\right)^{2} + \\frac{1}{4}$"
      ],
      "text/plain": [
       "-4*y*(1/4 - y/2) - y/2 - 2*(1/4 - y/2)**2 + 1/4"
      ]
     },
     "execution_count": 50,
     "metadata": {},
     "output_type": "execute_result"
    }
   ],
   "source": [
    "(-2*x**2-4*x*y+x).subs(x, (-2*y+1)/4)"
   ]
  },
  {
   "cell_type": "code",
   "execution_count": 51,
   "metadata": {},
   "outputs": [
    {
     "data": {
      "text/latex": [
       "$\\displaystyle 125$"
      ],
      "text/plain": [
       "125"
      ]
     },
     "execution_count": 51,
     "metadata": {},
     "output_type": "execute_result"
    }
   ],
   "source": [
    "((x**2*y-x*y**2+3)**3).subs([(x, -1), (y, -2)])"
   ]
  },
  {
   "cell_type": "code",
   "execution_count": 52,
   "metadata": {},
   "outputs": [
    {
     "data": {
      "text/latex": [
       "$\\displaystyle \\left[\\begin{matrix}-6 & 16 & -7\\\\0 & 2 & -2\\\\0 & 0 & -6\\end{matrix}\\right]$"
      ],
      "text/plain": [
       "Matrix([\n",
       "[-6, 16, -7],\n",
       "[ 0,  2, -2],\n",
       "[ 0,  0, -6]])"
      ]
     },
     "execution_count": 52,
     "metadata": {},
     "output_type": "execute_result"
    }
   ],
   "source": [
    "A=Matrix(5, 5, [2,-2,5,3,-2,-1,0,-3,-1,0,4,1,-2,2,0,0,-6,0,-2,m,3,1,-4,-1,-3])\n",
    "B=Matrix(3,3,[2,-1,3,-1,0,2,3,-2,m])\n",
    "C=Matrix(3,3,[-6,16,-7,-2,5,-2,1,-2,1])\n",
    "C.echelon_form()"
   ]
  },
  {
   "cell_type": "code",
   "execution_count": 53,
   "metadata": {},
   "outputs": [
    {
     "data": {
      "text/plain": [
       "0.009900990099009901"
      ]
     },
     "execution_count": 53,
     "metadata": {},
     "output_type": "execute_result"
    }
   ],
   "source": [
    "1/101"
   ]
  },
  {
   "cell_type": "code",
   "execution_count": 54,
   "metadata": {},
   "outputs": [
    {
     "data": {
      "text/latex": [
       "$\\displaystyle \\text{False}$"
      ],
      "text/plain": [
       "False"
      ]
     },
     "execution_count": 54,
     "metadata": {},
     "output_type": "execute_result"
    }
   ],
   "source": [
    "sp.sqrt(2)/102 < 1/101"
   ]
  },
  {
   "cell_type": "code",
   "execution_count": 55,
   "metadata": {},
   "outputs": [
    {
     "data": {
      "text/plain": [
       "(Matrix([\n",
       " [2, -1],\n",
       " [1,  2]]),\n",
       " Matrix([\n",
       " [4, 0],\n",
       " [0, 9]]))"
      ]
     },
     "execution_count": 55,
     "metadata": {},
     "output_type": "execute_result"
    }
   ],
   "source": [
    "A=Matrix(3,3,[2,-1,-1,-1,2,-1,-1,-1,2])\n",
    "B=Matrix(2,2,[5,-2,-2,8])\n",
    "B.diagonalize()"
   ]
  },
  {
   "cell_type": "code",
   "execution_count": 56,
   "metadata": {},
   "outputs": [
    {
     "data": {
      "text/plain": [
       "(Matrix([\n",
       " [-2, -1],\n",
       " [ 1,  5]]),\n",
       " Matrix([\n",
       " [-7, 0],\n",
       " [ 0, 2]]))"
      ]
     },
     "execution_count": 56,
     "metadata": {},
     "output_type": "execute_result"
    }
   ],
   "source": [
    "A=Matrix(3,3,[-1,-1,1,4,3,-1,-3,-2,1])\n",
    "B=Matrix(3,3,[1,2,-3,0,1,-2,2,6,-11])\n",
    "C=Matrix(2,2,[-8,-2,5,3])\n",
    "C.diagonalize()"
   ]
  }
 ],
 "metadata": {
  "kernelspec": {
   "display_name": "Python 3",
   "language": "python",
   "name": "python3"
  },
  "language_info": {
   "codemirror_mode": {
    "name": "ipython",
    "version": 3
   },
   "file_extension": ".py",
   "mimetype": "text/x-python",
   "name": "python",
   "nbconvert_exporter": "python",
   "pygments_lexer": "ipython3",
   "version": "3.11.5"
  },
  "orig_nbformat": 4
 },
 "nbformat": 4,
 "nbformat_minor": 2
}
